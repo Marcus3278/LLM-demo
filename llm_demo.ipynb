# LLM Demo Notebook

This notebook demonstrates the use of a pre-trained Large Language Model (LLM) for text generation and interaction.

## Load Pre-trained Model

```python
from transformers import AutoModelForCausalLM, AutoTokenizer

# Load the pre-trained model and tokenizer
model_name = 'gpt2'
tokenizer = AutoTokenizer.from_pretrained(model_name)
model = AutoModelForCausalLM.from_pretrained(model_name)
```

## Generate Text

```python
def generate_text(prompt, max_length=50):
    inputs = tokenizer.encode(prompt, return_tensors='pt')
    outputs = model.generate(inputs, max_length=max_length, num_return_sequences=1)
    text = tokenizer.decode(outputs[0], skip_special_tokens=True)
    return text

# Example usage
prompt = "Once upon a time,"
generated_text = generate_text(prompt)
print(generated_text)
```

## Interact with the Model

```python
# Interactive text generation
while True:
    prompt = input("Enter a prompt (or 'exit' to quit): ")
    if prompt.lower() == 'exit':
        break
    generated_text = generate_text(prompt)
    print(generated_text)
```
